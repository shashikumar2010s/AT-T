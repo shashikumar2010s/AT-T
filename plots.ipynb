{
 "cells": [
  {
   "cell_type": "code",
   "execution_count": null,
   "metadata": {},
   "outputs": [],
   "source": [
    "import plotly.express as px\n",
    "import plotly.graph_objects as go\n",
    "import plotly.io as pio\n",
    "pio.templates.default = \"plotly_white\""
   ]
  },
  {
   "cell_type": "code",
   "execution_count": null,
   "metadata": {},
   "outputs": [],
   "source": [
    "fig = px.box(loan_stat_df, \n",
    "             x=\"title\",  \n",
    "             color=\"loan_status_altered\", \n",
    "             title=\"loan status Based on Occupation\", \n",
    "             color_discrete_map={'Charged Off':'red',\n",
    "                                 'Fully Paid':'green'})\n",
    "fig.show()"
   ]
  },
  {
   "cell_type": "code",
   "execution_count": null,
   "metadata": {},
   "outputs": [],
   "source": [
    "fig = px.box(loan_stat_df, \n",
    "             x=\"home_ownership\",  \n",
    "             color=\"loan_status_altered\", \n",
    "             title=\"loan status Based on Occupation\", \n",
    "             color_discrete_map={'Charged Off':'red',\n",
    "                                 'Fully Paid':'green'})\n",
    "fig.show()"
   ]
  },
  {
   "cell_type": "code",
   "execution_count": null,
   "metadata": {},
   "outputs": [],
   "source": [
    "fig = px.box(loan_stat_df, \n",
    "             x=\"annual_inc\",  \n",
    "             color=\"loan_status_altered\", \n",
    "             title=\"loan status Based on Occupation\", \n",
    "             color_discrete_map={'Charged Off':'red',\n",
    "                                 'Fully Paid':'green'})\n",
    "fig.show()"
   ]
  },
  {
   "cell_type": "code",
   "execution_count": null,
   "metadata": {},
   "outputs": [],
   "source": [
    "fig = px.box(loan_stat_df, \n",
    "             x=\"grade\",  \n",
    "             color=\"loan_status_altered\", \n",
    "             title=\"loan status Based on Occupation\", \n",
    "             color_discrete_map={'Charged Off':'red',\n",
    "                                 'Fully Paid':'green'})\n",
    "fig.show()"
   ]
  }
 ],
 "metadata": {
  "language_info": {
   "name": "python"
  },
  "orig_nbformat": 4
 },
 "nbformat": 4,
 "nbformat_minor": 2
}
