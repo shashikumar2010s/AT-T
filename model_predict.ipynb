{
 "cells": [
  {
   "cell_type": "markdown",
   "metadata": {},
   "source": [
    "# Prediction using pkl file(model)\n",
    "#### for the same we pass values of all features values as a 2d numpy array format. feature values expected are as follows:\n",
    "    loan_amnt\n",
    "\tfunded_amnt\n",
    "\tterm\n",
    "\tint_rate\n",
    "\tinstallment\n",
    "\temp_length\n",
    "\tannual_inc\n",
    "\tdti\n",
    "\tearliest_cr_line\n",
    "\trevol_util\n",
    "\ttotal_pymnt\n",
    "\ttotal_rec_prncp\n",
    "\ttotal_rec_int\n",
    "\trecoveries\n",
    "\tcollection_recovery_fee\n",
    "\tlast_pymnt_amnt\n"
   ]
  },
  {
   "cell_type": "code",
   "execution_count": 1,
   "metadata": {},
   "outputs": [
    {
     "name": "stdout",
     "output_type": "stream",
     "text": [
      "[0]\n"
     ]
    }
   ],
   "source": [
    "import pickle\n",
    "\n",
    "# load the saved model\n",
    "filename = 'models/model_random_forest.pkl'\n",
    "loaded_model = pickle.load(open(filename, 'rb'))\n",
    "\n",
    "# make predictions on new data\n",
    "X_new = [[3000.0, 3000.0, 36.0, 7.29, 93.0, 7.0, 26400.0, 17.0, 198403.0, 21.4, 3312.0, 3000.0, 312.0, 0.0, 0.0, 1086.0]]\n",
    "y_pred = loaded_model.predict(X_new)\n",
    "print(y_pred)"
   ]
  },
  {
   "cell_type": "code",
   "execution_count": 3,
   "metadata": {},
   "outputs": [
    {
     "name": "stdout",
     "output_type": "stream",
     "text": [
      "[1]\n"
     ]
    }
   ],
   "source": [
    "X_new = [[12000.0, 12000.0, 36.0, 14.09, 410.0, 2.0, 42000.0, 11.0, 200101.0, 82.7, 12066.0, 9234.0, 2673.0, 159.0, 1.0, 27.0]]\n",
    "y_pred = loaded_model.predict(X_new)\n",
    "print(y_pred)"
   ]
  },
  {
   "cell_type": "code",
   "execution_count": 5,
   "metadata": {},
   "outputs": [
    {
     "name": "stdout",
     "output_type": "stream",
     "text": [
      "[1]\n"
     ]
    }
   ],
   "source": [
    "filename = 'models/model_svm.pkl'\n",
    "loaded_model = pickle.load(open(filename, 'rb'))\n",
    "\n",
    "# make predictions on new data\n",
    "X_new = [[12000.0, 12000.0, 36.0, 14.09, 410.0, 2.0, 42000.0, 11.0, 200101.0, 82.7, 12066.0, 9234.0, 2673.0, 159.0, 1.0, 27.0]]\n",
    "y_pred = loaded_model.predict(X_new)\n",
    "print(y_pred)"
   ]
  }
 ],
 "metadata": {
  "interpreter": {
   "hash": "c79b047ca0196cda578a3e7d8779606d316c722fd2dc0ccf8a72c98260a1a167"
  },
  "kernelspec": {
   "display_name": "Python 3.8.16 ('att-env')",
   "language": "python",
   "name": "python3"
  },
  "language_info": {
   "codemirror_mode": {
    "name": "ipython",
    "version": 3
   },
   "file_extension": ".py",
   "mimetype": "text/x-python",
   "name": "python",
   "nbconvert_exporter": "python",
   "pygments_lexer": "ipython3",
   "version": "3.8.16"
  },
  "orig_nbformat": 4
 },
 "nbformat": 4,
 "nbformat_minor": 2
}
